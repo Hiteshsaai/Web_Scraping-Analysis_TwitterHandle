{
 "cells": [
  {
   "cell_type": "markdown",
   "metadata": {},
   "source": [
    "# Analysis & Visualization "
   ]
  },
  {
   "cell_type": "code",
   "execution_count": 2,
   "metadata": {},
   "outputs": [],
   "source": [
    "import matplotlib.pyplot as plt \n",
    "import pandas as pd \n",
    "import numpy as np\n",
    "import datetime as dt\n",
    "import seaborn as sns\n",
    "%matplotlib inline "
   ]
  },
  {
   "cell_type": "code",
   "execution_count": 4,
   "metadata": {},
   "outputs": [
    {
     "data": {
      "text/html": [
       "<div>\n",
       "<style>\n",
       "    .dataframe thead tr:only-child th {\n",
       "        text-align: right;\n",
       "    }\n",
       "\n",
       "    .dataframe thead th {\n",
       "        text-align: left;\n",
       "    }\n",
       "\n",
       "    .dataframe tbody tr th {\n",
       "        vertical-align: top;\n",
       "    }\n",
       "</style>\n",
       "<table border=\"1\" class=\"dataframe\">\n",
       "  <thead>\n",
       "    <tr style=\"text-align: right;\">\n",
       "      <th></th>\n",
       "      <th>tweet_id</th>\n",
       "      <th>tweet_date</th>\n",
       "      <th>tweet_source</th>\n",
       "      <th>tweet_text</th>\n",
       "      <th>tweet_url</th>\n",
       "      <th>tweet_picture_predicted</th>\n",
       "      <th>tweet_favorites</th>\n",
       "      <th>tweet_retweets</th>\n",
       "      <th>user_followers</th>\n",
       "      <th>dog_stage</th>\n",
       "      <th>dog_breed</th>\n",
       "      <th>confidence_level</th>\n",
       "      <th>rating_numerator</th>\n",
       "      <th>dogs_count</th>\n",
       "      <th>dog_name</th>\n",
       "      <th>dog_gender</th>\n",
       "    </tr>\n",
       "  </thead>\n",
       "  <tbody>\n",
       "    <tr>\n",
       "      <th>0</th>\n",
       "      <td>892420643555336193</td>\n",
       "      <td>2017-08-01 16:23:56</td>\n",
       "      <td>Twitter for iPhone</td>\n",
       "      <td>This is Phineas. He's a mystical boy. Only eve...</td>\n",
       "      <td>https://twitter.com/dog_rates/status/892420643...</td>\n",
       "      <td>https://pbs.twimg.com/media/DGKD1-bXoAAIAUK.jpg</td>\n",
       "      <td>38298.0</td>\n",
       "      <td>8405.0</td>\n",
       "      <td>7377937.0</td>\n",
       "      <td>None</td>\n",
       "      <td>NaN</td>\n",
       "      <td>0.000000</td>\n",
       "      <td>13.0</td>\n",
       "      <td>1</td>\n",
       "      <td>Phineas</td>\n",
       "      <td>NaN</td>\n",
       "    </tr>\n",
       "    <tr>\n",
       "      <th>1</th>\n",
       "      <td>892177421306343426</td>\n",
       "      <td>2017-08-01 00:17:27</td>\n",
       "      <td>Twitter for iPhone</td>\n",
       "      <td>This is Tilly. She's just checking pup on you....</td>\n",
       "      <td>https://twitter.com/dog_rates/status/892177421...</td>\n",
       "      <td>https://pbs.twimg.com/media/DGGmoV4XsAAUL6n.jpg</td>\n",
       "      <td>32826.0</td>\n",
       "      <td>6196.0</td>\n",
       "      <td>7377937.0</td>\n",
       "      <td>None</td>\n",
       "      <td>Chihuahua</td>\n",
       "      <td>0.323581</td>\n",
       "      <td>13.0</td>\n",
       "      <td>1</td>\n",
       "      <td>Tilly</td>\n",
       "      <td>female</td>\n",
       "    </tr>\n",
       "    <tr>\n",
       "      <th>2</th>\n",
       "      <td>891815181378084864</td>\n",
       "      <td>2017-07-31 00:18:03</td>\n",
       "      <td>Twitter for iPhone</td>\n",
       "      <td>This is Archie. He is a rare Norwegian Pouncin...</td>\n",
       "      <td>https://twitter.com/dog_rates/status/891815181...</td>\n",
       "      <td>https://pbs.twimg.com/media/DGBdLU1WsAANxJ9.jpg</td>\n",
       "      <td>24720.0</td>\n",
       "      <td>4100.0</td>\n",
       "      <td>7377937.0</td>\n",
       "      <td>None</td>\n",
       "      <td>Chihuahua</td>\n",
       "      <td>0.716012</td>\n",
       "      <td>12.0</td>\n",
       "      <td>1</td>\n",
       "      <td>Archie</td>\n",
       "      <td>male</td>\n",
       "    </tr>\n",
       "    <tr>\n",
       "      <th>3</th>\n",
       "      <td>891689557279858688</td>\n",
       "      <td>2017-07-30 15:58:51</td>\n",
       "      <td>Twitter for iPhone</td>\n",
       "      <td>This is Darla. She commenced a snooze mid meal...</td>\n",
       "      <td>https://twitter.com/dog_rates/status/891689557...</td>\n",
       "      <td>https://pbs.twimg.com/media/DF_q7IAWsAEuuN8.jpg</td>\n",
       "      <td>41631.0</td>\n",
       "      <td>8532.0</td>\n",
       "      <td>7377937.0</td>\n",
       "      <td>None</td>\n",
       "      <td>Labrador_retriever</td>\n",
       "      <td>0.168086</td>\n",
       "      <td>13.0</td>\n",
       "      <td>1</td>\n",
       "      <td>Darla</td>\n",
       "      <td>female</td>\n",
       "    </tr>\n",
       "    <tr>\n",
       "      <th>4</th>\n",
       "      <td>891327558926688256</td>\n",
       "      <td>2017-07-29 16:00:24</td>\n",
       "      <td>Twitter for iPhone</td>\n",
       "      <td>This is Franklin. He would like you to stop ca...</td>\n",
       "      <td>https://twitter.com/dog_rates/status/891327558...</td>\n",
       "      <td>https://pbs.twimg.com/media/DF6hr6BUMAAzZgT.jpg</td>\n",
       "      <td>39800.0</td>\n",
       "      <td>9251.0</td>\n",
       "      <td>7377937.0</td>\n",
       "      <td>None</td>\n",
       "      <td>basset</td>\n",
       "      <td>0.555712</td>\n",
       "      <td>12.0</td>\n",
       "      <td>1</td>\n",
       "      <td>Franklin</td>\n",
       "      <td>male</td>\n",
       "    </tr>\n",
       "  </tbody>\n",
       "</table>\n",
       "</div>"
      ],
      "text/plain": [
       "             tweet_id           tweet_date        tweet_source  \\\n",
       "0  892420643555336193  2017-08-01 16:23:56  Twitter for iPhone   \n",
       "1  892177421306343426  2017-08-01 00:17:27  Twitter for iPhone   \n",
       "2  891815181378084864  2017-07-31 00:18:03  Twitter for iPhone   \n",
       "3  891689557279858688  2017-07-30 15:58:51  Twitter for iPhone   \n",
       "4  891327558926688256  2017-07-29 16:00:24  Twitter for iPhone   \n",
       "\n",
       "                                          tweet_text  \\\n",
       "0  This is Phineas. He's a mystical boy. Only eve...   \n",
       "1  This is Tilly. She's just checking pup on you....   \n",
       "2  This is Archie. He is a rare Norwegian Pouncin...   \n",
       "3  This is Darla. She commenced a snooze mid meal...   \n",
       "4  This is Franklin. He would like you to stop ca...   \n",
       "\n",
       "                                           tweet_url  \\\n",
       "0  https://twitter.com/dog_rates/status/892420643...   \n",
       "1  https://twitter.com/dog_rates/status/892177421...   \n",
       "2  https://twitter.com/dog_rates/status/891815181...   \n",
       "3  https://twitter.com/dog_rates/status/891689557...   \n",
       "4  https://twitter.com/dog_rates/status/891327558...   \n",
       "\n",
       "                           tweet_picture_predicted  tweet_favorites  \\\n",
       "0  https://pbs.twimg.com/media/DGKD1-bXoAAIAUK.jpg          38298.0   \n",
       "1  https://pbs.twimg.com/media/DGGmoV4XsAAUL6n.jpg          32826.0   \n",
       "2  https://pbs.twimg.com/media/DGBdLU1WsAANxJ9.jpg          24720.0   \n",
       "3  https://pbs.twimg.com/media/DF_q7IAWsAEuuN8.jpg          41631.0   \n",
       "4  https://pbs.twimg.com/media/DF6hr6BUMAAzZgT.jpg          39800.0   \n",
       "\n",
       "   tweet_retweets  user_followers dog_stage           dog_breed  \\\n",
       "0          8405.0       7377937.0      None                 NaN   \n",
       "1          6196.0       7377937.0      None           Chihuahua   \n",
       "2          4100.0       7377937.0      None           Chihuahua   \n",
       "3          8532.0       7377937.0      None  Labrador_retriever   \n",
       "4          9251.0       7377937.0      None              basset   \n",
       "\n",
       "   confidence_level  rating_numerator  dogs_count  dog_name dog_gender  \n",
       "0          0.000000              13.0           1   Phineas        NaN  \n",
       "1          0.323581              13.0           1     Tilly     female  \n",
       "2          0.716012              12.0           1    Archie       male  \n",
       "3          0.168086              13.0           1     Darla     female  \n",
       "4          0.555712              12.0           1  Franklin       male  "
      ]
     },
     "execution_count": 4,
     "metadata": {},
     "output_type": "execute_result"
    }
   ],
   "source": [
    "# Import the master dataset into dataframe\n",
    "df_master = pd.read_csv('twitter_archive_master.csv')\n",
    "df_master.head()"
   ]
  },
  {
   "cell_type": "code",
   "execution_count": 5,
   "metadata": {},
   "outputs": [
    {
     "name": "stdout",
     "output_type": "stream",
     "text": [
      "<class 'pandas.core.frame.DataFrame'>\n",
      "RangeIndex: 7976 entries, 0 to 7975\n",
      "Data columns (total 16 columns):\n",
      "tweet_id                   7976 non-null int64\n",
      "tweet_date                 7976 non-null object\n",
      "tweet_source               7976 non-null object\n",
      "tweet_text                 7976 non-null object\n",
      "tweet_url                  7976 non-null object\n",
      "tweet_picture_predicted    7976 non-null object\n",
      "tweet_favorites            7972 non-null float64\n",
      "tweet_retweets             7972 non-null float64\n",
      "user_followers             7972 non-null float64\n",
      "dog_stage                  7976 non-null object\n",
      "dog_breed                  6744 non-null object\n",
      "confidence_level           7976 non-null float64\n",
      "rating_numerator           7976 non-null float64\n",
      "dogs_count                 7976 non-null int64\n",
      "dog_name                   5476 non-null object\n",
      "dog_gender                 3448 non-null object\n",
      "dtypes: float64(5), int64(2), object(9)\n",
      "memory usage: 997.1+ KB\n"
     ]
    }
   ],
   "source": [
    "df_master.info()"
   ]
  },
  {
   "cell_type": "code",
   "execution_count": 6,
   "metadata": {},
   "outputs": [
    {
     "name": "stdout",
     "output_type": "stream",
     "text": [
      "<class 'pandas.core.frame.DataFrame'>\n",
      "DatetimeIndex: 7976 entries, 2017-08-01 16:23:56 to 2015-11-15 22:32:08\n",
      "Data columns (total 15 columns):\n",
      "tweet_id                   7976 non-null object\n",
      "tweet_source               7976 non-null category\n",
      "tweet_text                 7976 non-null object\n",
      "tweet_url                  7976 non-null object\n",
      "tweet_picture_predicted    7976 non-null object\n",
      "tweet_favorites            7972 non-null float64\n",
      "tweet_retweets             7972 non-null float64\n",
      "user_followers             7972 non-null float64\n",
      "dog_stage                  7976 non-null category\n",
      "dog_breed                  6744 non-null object\n",
      "confidence_level           7976 non-null float64\n",
      "rating_numerator           7976 non-null float64\n",
      "dogs_count                 7976 non-null int64\n",
      "dog_name                   5476 non-null object\n",
      "dog_gender                 3448 non-null category\n",
      "dtypes: category(3), float64(5), int64(1), object(6)\n",
      "memory usage: 833.8+ KB\n"
     ]
    }
   ],
   "source": [
    "# Convert columns to the required data type\n",
    "\n",
    "df_master['tweet_id'] = df_master['tweet_id'].astype(object)\n",
    "df_master['tweet_date'] = pd.to_datetime(df_master.tweet_date)\n",
    "df_master['tweet_source'] = df_master['tweet_source'].astype('category')\n",
    "df_master['dog_stage'] = df_master['dog_stage'].astype('category')\n",
    "df_master['dog_gender'] = df_master['dog_gender'].astype('category')\n",
    "\n",
    "df_master = df_master.set_index('tweet_date')\n",
    "df_master.info()"
   ]
  },
  {
   "cell_type": "code",
   "execution_count": 8,
   "metadata": {},
   "outputs": [
    {
     "data": {
      "text/plain": [
       "Text(0.5,1,'Retweets and favorites Scatter plot')"
      ]
     },
     "execution_count": 8,
     "metadata": {},
     "output_type": "execute_result"
    },
    {
     "data": {
      "image/png": "[encoded data removed]",
      "text/plain": [
       "<matplotlib.figure.Figure at 0x7f2ebaf17c88>"
      ]
     },
     "metadata": {
      "needs_background": "light"
     },
     "output_type": "display_data"
    }
   ],
   "source": [
    "df_master.plot(kind = 'scatter', x = 'tweet_favorites', y = 'tweet_retweets', alpha = 0.5, color = 'blue')\n",
    "plt.xlabel('Favorites')\n",
    "plt.ylabel('Retweets')\n",
    "plt.title('Retweets and favorites Scatter plot')"
   ]
  },
  {
   "cell_type": "code",
   "execution_count": 9,
   "metadata": {},
   "outputs": [
    {
     "name": "stdout",
     "output_type": "stream",
     "text": [
      "The maximum number of retweet is: 84382.0, for the tweet: https://twitter.com/dog_rates/status/744234799360020481/video/1\n",
      "The maximum number of favorites is: 165068.0, for the tweet: https://twitter.com/dog_rates/status/744234799360020481/video/1\n"
     ]
    }
   ],
   "source": [
    "\n",
    "top_retweet_count_url = df_master.tweet_url[df_master.tweet_retweets == max(df_master.tweet_retweets)][0]\n",
    "print(\"The maximum number of retweet is: {}, for the tweet: {}\".format(max(df_master.tweet_retweets), top_retweet_count_url))\n",
    "\n",
    "top_favorites_count_url = df_master.tweet_url[df_master.tweet_favorites == max(df_master.tweet_favorites)][0]\n",
    "print(\"The maximum number of favorites is: {}, for the tweet: {}\".format(max(df_master.tweet_favorites), top_favorites_count_url))"
   ]
  },
  {
   "cell_type": "code",
   "execution_count": 10,
   "metadata": {},
   "outputs": [
    {
     "data": {
      "text/plain": [
       "Text(0,0.5,'Rating')"
      ]
     },
     "execution_count": 10,
     "metadata": {},
     "output_type": "execute_result"
    },
    {
     "data": {
      "image/png": "[encoded data removed]",
      "text/plain": [
       "<matplotlib.figure.Figure at 0x7f2ebaf23e48>"
      ]
     },
     "metadata": {
      "needs_background": "light"
     },
     "output_type": "display_data"
    }
   ],
   "source": [
    "# Our range will be [0,16] taking of the two ouliers (1776 and 420)\n",
    "df_master.plot(y ='rating_numerator', ylim=[0,16], style = '.', alpha = .2)\n",
    "plt.title('Rating plot over Time')\n",
    "plt.xlabel('Date')\n",
    "plt.ylabel('Rating')"
   ]
  },
  {
   "cell_type": "code",
   "execution_count": 11,
   "metadata": {},
   "outputs": [
    {
     "data": {
      "text/plain": [
       "count    7968.000000\n",
       "mean       10.545405\n",
       "std         2.190394\n",
       "min         0.000000\n",
       "25%        10.000000\n",
       "50%        11.000000\n",
       "75%        12.000000\n",
       "max        14.000000\n",
       "Name: rating_numerator, dtype: float64"
      ]
     },
     "execution_count": 11,
     "metadata": {},
     "output_type": "execute_result"
    }
   ],
   "source": [
    "df_master[df_master['rating_numerator'] <= 14]['rating_numerator'].describe()\n"
   ]
  },
  {
   "cell_type": "code",
   "execution_count": 15,
   "metadata": {},
   "outputs": [
    {
     "data": {
      "text/plain": [
       "Text(0,0.5,'dog_breed')"
      ]
     },
     "execution_count": 15,
     "metadata": {},
     "output_type": "execute_result"
    },
    {
     "data": {
      "image/png": "[encoded data removed]",
      "text/plain": [
       "<matplotlib.figure.Figure at 0x7f2ebb4fdda0>"
      ]
     },
     "metadata": {
      "needs_background": "light"
     },
     "output_type": "display_data"
    }
   ],
   "source": [
    "# Without specify the lengh we don't get good result so we will subset our data on the most owned\n",
    "df_by_breed = df_master.groupby('dog_breed').filter(lambda x: len(x) >= 100.0)\n",
    "\n",
    "df_by_breed['dog_breed'].value_counts().plot(kind = 'barh')\n",
    "plt.title('Histogram of Most The Rated Breeds')\n",
    "plt.xlabel('Count')\n",
    "plt.ylabel('dog_breed')"
   ]
  },
  {
   "cell_type": "code",
   "execution_count": 17,
   "metadata": {},
   "outputs": [
    {
     "data": {
      "text/plain": [
       "Text(0.5,1,'Dog Gender Partitions')"
      ]
     },
     "execution_count": 17,
     "metadata": {},
     "output_type": "execute_result"
    },
    {
     "data": {
      "image/png": "[encoded data removed]",
      "text/plain": [
       "<matplotlib.figure.Figure at 0x7f2ebb426f98>"
      ]
     },
     "metadata": {},
     "output_type": "display_data"
    }
   ],
   "source": [
    "# Plot the data partitioned by dog gender\n",
    "df_master[df_master['dog_gender'].notnull()]['dog_gender'].value_counts().plot(kind = 'pie', autopct='%1.1f%%')\n",
    "plt.title('Dog Gender Partitions')"
   ]
  },
  {
   "cell_type": "code",
   "execution_count": 22,
   "metadata": {},
   "outputs": [
    {
     "name": "stderr",
     "output_type": "stream",
     "text": [
      "/opt/conda/lib/python3.6/site-packages/numpy/core/fromnumeric.py:57: FutureWarning: reshape is deprecated and will raise in a subsequent release. Please use .values.reshape(...) instead\n",
      "  return getattr(obj, method)(*args, **kwds)\n"
     ]
    },
    {
     "data": {
      "text/plain": [
       "Text(0.5,1,'')"
      ]
     },
     "execution_count": 22,
     "metadata": {},
     "output_type": "execute_result"
    },
    {
     "data": {
      "image/png": "[encoded data removed]",
      "text/plain": [
       "<matplotlib.figure.Figure at 0x7f2ebb096550>"
      ]
     },
     "metadata": {
      "needs_background": "light"
     },
     "output_type": "display_data"
    }
   ],
   "source": [
    "# Plot the dog stages with ratings\n",
    "df_master[df_master['dog_stage'] != 'None'].boxplot(column = ['rating_numerator'], by = ['dog_stage'])\n",
    "plt.title('')"
   ]
  },
  {
   "cell_type": "markdown",
   "metadata": {},
   "source": [
    "# Conclusion\n",
    "\n",
    "The Twitter account WeRateDogs (@dog_rates) is devoted to humorously reviewing pictures of dogs doing adorable poses. Dogs are rated on a scale of one to ten, but are invariably given ratings in excess of the maximum, such as \"13/10\". It has acquired over 4.50 million followers since its debut.\n",
    "\n",
    "If you are thinking of adopting a dog, get a floof(er) - far away from being pupper at least still in the stage of puppo yet not a doggo to live more togother."
   ]
  },
  {
   "cell_type": "code",
   "execution_count": null,
   "metadata": {},
   "outputs": [],
   "source": []
  }
 ],
 "metadata": {
  "kernelspec": {
   "display_name": "Python 3",
   "language": "python",
   "name": "python3"
  },
  "language_info": {
   "codemirror_mode": {
    "name": "ipython",
    "version": 3
   },
   "file_extension": ".py",
   "mimetype": "text/x-python",
   "name": "python",
   "nbconvert_exporter": "python",
   "pygments_lexer": "ipython3",
   "version": "3.6.3"
  }
 },
 "nbformat": 4,
 "nbformat_minor": 2
}
